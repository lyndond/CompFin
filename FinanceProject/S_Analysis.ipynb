{
 "cells": [
  {
   "cell_type": "markdown",
   "metadata": {},
   "source": [
    "### Preamble:"
   ]
  },
  {
   "cell_type": "code",
   "execution_count": 20,
   "metadata": {
    "collapsed": false
   },
   "outputs": [],
   "source": [
    "%matplotlib inline\n",
    "import pandas as pd, numpy as np, os\n",
    "from pandas import DataFrame, Series, HDFStore\n",
    "from datetime import datetime\n",
    "pd.set_option('display.max_rows', 50)"
   ]
  },
  {
   "cell_type": "code",
   "execution_count": 14,
   "metadata": {
    "collapsed": false
   },
   "outputs": [],
   "source": [
    "#Depending on which computer I'm working on (Mac/Windows)... change  directory to the correct folder\n",
    "from sys import platform as _platform\n",
    "if _platform == 'darwin':\n",
    "    os.chdir(os.getcwd()+'/Master Download/Table 1 - Stock Transactions')\n",
    "elif _platform == 'win64' or _platform =='win32':\n",
    "    os.chdir(os.getcwd()+'\\\\Master Download\\\\Table 1 - Stock Transactions')"
   ]
  },
  {
   "cell_type": "markdown",
   "metadata": {},
   "source": [
    "### Define which columns we won't need:"
   ]
  },
  {
   "cell_type": "code",
   "execution_count": 3,
   "metadata": {
    "collapsed": false
   },
   "outputs": [],
   "source": [
    "drop_cols=['FDATE', 'CDATE', 'SEQNUM','OWNER','SHARES','SIGDATE','ACQDISP_AR','SHARESHELD',\n",
    "           'ADDRESS1','ADDRESS2','CITY','COUNTRY','STATE','SECID', 'OWNER','MAINTDATE',\n",
    "           'CUSIP2','PHONE','ZIPCODE','DCN','FORMTYPE','TRANCODE_AR','SECTOR',\n",
    "            'SECTOR','CNUM','ROLECODE2','ROLECODE3','SECDATE',\n",
    "            'TRANDATE_AR','TPRICE','SECTITLE','TPRICE_AR','ROLECODE4']\n",
    "\n",
    "keep_cols= ['CNAME','CUSIP6','TICKER','PERSONID','ROLECODE1','ACQDISP','TRANDATE','TRANCODE','OWNERSHIP',\n",
    "            'OPTIONSELL','CLEANSE','AMEND','INDUSTRY','SHARESHELD_ADJ','TPRICE_ADJ','SHARES_ADJ']"
   ]
  },
  {
   "cell_type": "markdown",
   "metadata": {},
   "source": [
    "### Define a function to tidy up data.  Keep valid (non-null) acquisition/disposition data given by ACQDISP, and dropping trash data defined by Thomson-Reuters given by CLEANSE "
   ]
  },
  {
   "cell_type": "code",
   "execution_count": 4,
   "metadata": {
    "collapsed": false
   },
   "outputs": [],
   "source": [
    "def tidy_data(df):\n",
    "    #df=df.drop(drop_cols,axis=1)\n",
    "    #df=df.loc[:,keep_cols] #Keep the columns specified in above cell\n",
    "    #df['TRANDATE']=pd.to_datetime(df['TRANDATE'])\n",
    "\n",
    "    #TRANCODE == [\"P\",\"S\"] and\n",
    "#    df= df.query('TRANCODE == [\"P\",\"S\"] and ACQDISP in [\"A\",\"D\"] and CLEANSE!=\"A\"')\n",
    "    df= df.query('TRANCODE == [\"P\"] and ACQDISP in [\"A\",\"D\"] and CLEANSE!=\"A\"')\n",
    "    \n",
    "    #reorder the columns\n",
    "    df=df.reset_index() #reset the index\n",
    "    df=df.drop('index',axis=1)\n",
    "    return df.sort('CUSIP6')"
   ]
  },
  {
   "cell_type": "markdown",
   "metadata": {},
   "source": [
    "## Load the data:"
   ]
  },
  {
   "cell_type": "markdown",
   "metadata": {
    "collapsed": false
   },
   "source": [
    "###Run this block if we want to load all data from scratch again\n",
    "all_data=pd.read_csv('2003.csv',engine='c',parse_dates=['TRANDATE'], low_memory=False,usecols=keep_cols)\n",
    "for iter in xrange(4,13+1):\n",
    "    if iter <10: #if year is one digit, stick a zero on before\n",
    "        year= '200%i' %iter\n",
    "        df=pd.read_csv(year+'.csv',engine='c',parse_dates=['TRANDATE'], low_memory=False,usecols=keep_cols)\n",
    "        all_data=pd.concat([all_data,df],axis=0,ignore_index=True); #concatenate all data\n",
    "    else: #if year is two digits, don't stick a zero on\n",
    "        year='20%i' %iter\n",
    "        df=pd.read_csv(year+'.csv',engine='c' ,parse_dates=['TRANDATE'],low_memory=False,usecols=keep_cols)\n",
    "        all_data=pd.concat([all_data,df],axis=0,ignore_index=True); #concatenate all data"
   ]
  },
  {
   "cell_type": "markdown",
   "metadata": {},
   "source": [
    "###Run this block to save data in efficient hdf5 format\n",
    "raw=pd.HDFStore('raw_data.h5')\n",
    "raw['data']=all_data\n",
    "raw.close()"
   ]
  },
  {
   "cell_type": "code",
   "execution_count": 22,
   "metadata": {
    "collapsed": false
   },
   "outputs": [],
   "source": [
    "#Run this block to load from concatenated dataset\n",
    "all_data = pd.read_hdf('raw_data.h5','data')"
   ]
  },
  {
   "cell_type": "markdown",
   "metadata": {},
   "source": [
    "### Clean the data using the tidy_data():"
   ]
  },
  {
   "cell_type": "code",
   "execution_count": 23,
   "metadata": {
    "collapsed": false
   },
   "outputs": [],
   "source": [
    "cleaned=tidy_data(all_data) "
   ]
  },
  {
   "cell_type": "code",
   "execution_count": 24,
   "metadata": {
    "collapsed": false
   },
   "outputs": [],
   "source": [
    "year=pd.DatetimeIndex(cleaned.TRANDATE).year\n",
    "cleaned['YEAR']=year"
   ]
  },
  {
   "cell_type": "markdown",
   "metadata": {},
   "source": [
    "###Absolute number of purchases made by ALL insiders in each year."
   ]
  },
  {
   "cell_type": "code",
   "execution_count": 28,
   "metadata": {
    "collapsed": false
   },
   "outputs": [
    {
     "data": {
      "text/plain": [
       "YEAR\n",
       "2003     42292\n",
       "2004     43243\n",
       "2005     52563\n",
       "2006     51626\n",
       "2007     72295\n",
       "2008    109694\n",
       "2009     48570\n",
       "2010     25854\n",
       "2011     38780\n",
       "2012     32987\n",
       "2013      5718\n",
       "dtype: int64"
      ]
     },
     "execution_count": 28,
     "metadata": {},
     "output_type": "execute_result"
    }
   ],
   "source": [
    "PurchasesAll=cleaned.groupby(['YEAR'])\n",
    "PurchasesAll.size()"
   ]
  },
  {
   "cell_type": "markdown",
   "metadata": {},
   "source": [
    "###Absolute number of purchases made by CEOs in each year."
   ]
  },
  {
   "cell_type": "code",
   "execution_count": 29,
   "metadata": {
    "collapsed": false,
    "scrolled": true
   },
   "outputs": [
    {
     "data": {
      "text/plain": [
       "YEAR\n",
       "2003     5293\n",
       "2004     4557\n",
       "2005     5952\n",
       "2006     7212\n",
       "2007    10017\n",
       "2008    14628\n",
       "2009     8022\n",
       "2010     3269\n",
       "2011     6324\n",
       "2012     5862\n",
       "2013     1118\n",
       "dtype: int64"
      ]
     },
     "execution_count": 29,
     "metadata": {},
     "output_type": "execute_result"
    }
   ],
   "source": [
    "cleanedCEO = cleaned.query('ROLECODE1==[\"CEO\"]')\n",
    "cleanedCEO = cleanedCEO.sort('YEAR')\n",
    "PurchasesCEO = cleanedCEO.groupby(['YEAR'])\n",
    "PurchasesCEO.size()"
   ]
  },
  {
   "cell_type": "markdown",
   "metadata": {},
   "source": [
    "### Fraction of absolute trades by CEOs only"
   ]
  },
  {
   "cell_type": "code",
   "execution_count": 30,
   "metadata": {
    "collapsed": false
   },
   "outputs": [
    {
     "data": {
      "text/plain": [
       "YEAR\n",
       "2003    0.125154\n",
       "2004    0.105381\n",
       "2005    0.113236\n",
       "2006    0.139697\n",
       "2007    0.138557\n",
       "2008    0.133353\n",
       "2009    0.165164\n",
       "2010    0.126441\n",
       "2011    0.163074\n",
       "2012    0.177706\n",
       "2013    0.195523\n",
       "dtype: float64"
      ]
     },
     "execution_count": 30,
     "metadata": {},
     "output_type": "execute_result"
    }
   ],
   "source": [
    "PurchasesCEO.size()/PurchasesAll.size()"
   ]
  },
  {
   "cell_type": "code",
   "execution_count": null,
   "metadata": {
    "collapsed": false
   },
   "outputs": [],
   "source": []
  }
 ],
 "metadata": {
  "kernelspec": {
   "display_name": "Python 2",
   "language": "python",
   "name": "python2"
  },
  "language_info": {
   "codemirror_mode": {
    "name": "ipython",
    "version": 2
   },
   "file_extension": ".py",
   "mimetype": "text/x-python",
   "name": "python",
   "nbconvert_exporter": "python",
   "pygments_lexer": "ipython2",
   "version": "2.7.8"
  }
 },
 "nbformat": 4,
 "nbformat_minor": 0
}
