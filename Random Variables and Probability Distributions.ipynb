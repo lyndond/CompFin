{
 "cells": [
  {
   "cell_type": "code",
   "execution_count": 1,
   "metadata": {
    "collapsed": false
   },
   "outputs": [],
   "source": [
    "import numpy as np, pandas as pd, scipy.stats as ss\n",
    "import matplotlib.pyplot as plt\n",
    "%matplotlib inline"
   ]
  },
  {
   "cell_type": "markdown",
   "metadata": {},
   "source": [
    "**Compute Probabilities:** First, we'd like to create a Normal distribution of mean 0.05 and standard deviation 0.1, then compute the following probabilities."
   ]
  },
  {
   "cell_type": "code",
   "execution_count": 2,
   "metadata": {
    "collapsed": false
   },
   "outputs": [
    {
     "data": {
      "text/plain": [
       "0.68268949213708585"
      ]
     },
     "execution_count": 2,
     "metadata": {},
     "output_type": "execute_result"
    }
   ],
   "source": [
    "x=ss.norm(0.05,0.1)\n",
    "\n",
    "mu_x=x.mean()\n",
    "sigma_x=x.std()\n",
    "\n",
    "#Pr(x>0.01)\n",
    "1-ss.norm.cdf(0.1,loc=mu_x,scale=sigma_x)\n",
    "\n",
    "#Pr(x<-0.1)\n",
    "ss.norm.cdf(-0.1,loc=mu_x,scale=sigma_x)\n",
    "\n",
    "#Pr(-0.05>x>0.15)\n",
    "ss.norm.cdf(0.15,loc=mu_x,scale=sigma_x)-ss.norm.cdf(-0.05,loc=mu_x,scale=sigma_x)"
   ]
  },
  {
   "cell_type": "markdown",
   "metadata": {},
   "source": [
    "**Compute Quantiles:** Compute the quantiles of the Normal distribution for 1%, 5%, 95% and 99%. We can throw them all into a numpy array, and pass them into scipy.stats.norm.ppf using mu_x and sigma_x from before."
   ]
  },
  {
   "cell_type": "code",
   "execution_count": 3,
   "metadata": {
    "collapsed": false
   },
   "outputs": [
    {
     "data": {
      "text/plain": [
       "array([-0.18263479, -0.11448536,  0.21448536,  0.28263479])"
      ]
     },
     "execution_count": 3,
     "metadata": {},
     "output_type": "execute_result"
    }
   ],
   "source": [
    "ss.norm.ppf(np.array([0.01,0.05,0.95,0.99]),loc=mu_x,scale=sigma_x)"
   ]
  },
  {
   "cell_type": "markdown",
   "metadata": {},
   "source": [
    "**Compute Densities:** Create two distributions of stocks, MSFT and SBUX. Let monthly returns be  $\\text{MSFT}=X\\sim N(0.05,0.1^2)$ and $\\text{SBUX}=Y \\sim N(0.025,0.05^2)$."
   ]
  },
  {
   "cell_type": "code",
   "execution_count": 4,
   "metadata": {
    "collapsed": false
   },
   "outputs": [],
   "source": [
    "x_vals = np.linspace(-0.25, 0.35,  100)\n",
    "\n",
    "MSFT=ss.norm.pdf(x_vals,loc=0.05,scale=0.1)\n",
    "SBUX=ss.norm.pdf(x_vals,loc=0.025,scale=0.05)"
   ]
  },
  {
   "cell_type": "markdown",
   "metadata": {},
   "source": [
    "**Plot the PDFs**"
   ]
  },
  {
   "cell_type": "code",
   "execution_count": 6,
   "metadata": {
    "collapsed": false
   },
   "outputs": [
    {
     "data": {
      "text/plain": [
       "<matplotlib.text.Text at 0x17647470>"
      ]
     },
     "execution_count": 6,
     "metadata": {},
     "output_type": "execute_result"
    },
    {
     "data": {
      "image/png": "[encoded data removed]",
      "text/plain": [
       "<matplotlib.figure.Figure at 0x17e88c50>"
      ]
     },
     "metadata": {},
     "output_type": "display_data"
    }
   ],
   "source": [
    "plt.plot(x_vals,MSFT,linewidth=2,c='b')\n",
    "plt.plot(x_vals,SBUX,linewidth=2,c='r')\n",
    "plt.legend(['MSFT','SBUX'])\n",
    "plt.xlabel('% Return')\n",
    "plt.ylabel('Probability Density')"
   ]
  },
  {
   "cell_type": "markdown",
   "metadata": {},
   "source": [
    "**Determine Value at Risk of simple monthly returns:** Let $\\text{MSFT}=X\\sim N(0.04,0.09^2)$, and let our principal investment be $100K."
   ]
  },
  {
   "cell_type": "code",
   "execution_count": 19,
   "metadata": {
    "collapsed": false
   },
   "outputs": [
    {
     "data": {
      "text/plain": [
       "-10803.682642563253"
      ]
     },
     "execution_count": 19,
     "metadata": {},
     "output_type": "execute_result"
    }
   ],
   "source": [
    "X=ss.norm(0.04,0.09)\n",
    "mu_R=X.mean()\n",
    "sigma_R=X.std()\n",
    "\n",
    "W0=100000\n",
    "\n",
    "# %1 at value risk\n",
    "R01=ss.norm.ppf(0.01,mu_R,sigma_R)\n",
    "W0*R01\n",
    "\n",
    "#%5 at value risk\n",
    "R05=ss.norm.ppf(0.05,mu_R,sigma_R)\n",
    "W0*R05"
   ]
  },
  {
   "cell_type": "markdown",
   "metadata": {},
   "source": [
    "**Determine the Value at Risk for continuously compounded returns:**"
   ]
  },
  {
   "cell_type": "code",
   "execution_count": 21,
   "metadata": {
    "collapsed": false
   },
   "outputs": [
    {
     "data": {
      "text/plain": [
       "-10240.545937682344"
      ]
     },
     "execution_count": 21,
     "metadata": {},
     "output_type": "execute_result"
    }
   ],
   "source": [
    "#continuous distribution of return parameters\n",
    "mu_r = 0.04\n",
    "sigma_r =0.09\n",
    "\n",
    "# Initial wealth W0 equals $100,000\n",
    "W0 = 100000\n",
    "\n",
    "# The 1% value-at-risk\n",
    "r01=ss.norm.ppf(0.01,mu_r,sigma_r)\n",
    "R01=np.exp(r01)-1\n",
    "W0*R01\n",
    "# The 5% value-at-risk\n",
    "r05=ss.norm.ppf(0.05,mu_r,sigma_r)\n",
    "R05=np.exp(r05)-1\n",
    "W0*R05"
   ]
  },
  {
   "cell_type": "markdown",
   "metadata": {},
   "source": [
    "**Compute Simple Monthly Returns:** Take Amazon and Costco month-end prices for Sept and Oct 2004, and compute simple returns."
   ]
  },
  {
   "cell_type": "code",
   "execution_count": 24,
   "metadata": {
    "collapsed": false
   },
   "outputs": [],
   "source": [
    "# Vectors of prices\n",
    "PA = np.array([38.23,41.29])\n",
    "PC = np.array([41.11,41.74])\n",
    "\n",
    "#Compute the simple monthly return\n",
    "\n",
    "RA = (PA[1]-PA[0])/PA[0]\n",
    "RC = (PC[1]-PC[0])/PC[0]"
   ]
  },
  {
   "cell_type": "markdown",
   "metadata": {},
   "source": [
    "**Convert to Continuously Compounded Returns:** "
   ]
  },
  {
   "cell_type": "code",
   "execution_count": 26,
   "metadata": {
    "collapsed": true
   },
   "outputs": [],
   "source": [
    "rA = np.log(1+RA)\n",
    "rC=np.log(1+RC)"
   ]
  },
  {
   "cell_type": "markdown",
   "metadata": {},
   "source": [
    "**Compute simple total returns and dividend yields:** Amazon paid $0.1 dividend return at the end of Oct 2004. Compute the Total return and dividend yield.\n",
    "\n",
    "\\begin{equation}\n",
    "RA_{total} = \\frac{P_t-P_{t-1}}{P_{t-1}} - \\frac{DA}{P_{t-1}} = \\text{Simple Return} + \\text{Dividend Yield}\n",
    "\\end{equation}"
   ]
  },
  {
   "cell_type": "code",
   "execution_count": 28,
   "metadata": {
    "collapsed": false
   },
   "outputs": [],
   "source": [
    "#10 cent dividend\n",
    "DA=0.1\n",
    "RA_Total=(PA[1]+DA-PA[0])/PA[0] #add the dividend onto our monthly return\n",
    "DY=DA/PA[0] #compute thh dividend yield"
   ]
  },
  {
   "cell_type": "markdown",
   "metadata": {},
   "source": [
    "**Compute Annual Return from monthly return:**\n",
    "\\begin{equation}\n",
    "R_{annual} =(1+RA)^{12} - 1 \n",
    "\\end{equation}\n",
    "Then compute continuously compounded return."
   ]
  },
  {
   "cell_type": "code",
   "execution_count": 30,
   "metadata": {
    "collapsed": true
   },
   "outputs": [],
   "source": [
    "RA_annual = (1+RA)**12 -1\n",
    "rA_annual = np.log(RA_annual)"
   ]
  },
  {
   "cell_type": "markdown",
   "metadata": {},
   "source": [
    "**Compute Portfolio returns:** We have \\$ 10K and invest \\$8K in Amazon, and \\$2K in Costco. What are our returns after one month?"
   ]
  },
  {
   "cell_type": "code",
   "execution_count": 32,
   "metadata": {
    "collapsed": false
   },
   "outputs": [
    {
     "data": {
      "text/plain": [
       "0.067098429260274373"
      ]
     },
     "execution_count": 32,
     "metadata": {},
     "output_type": "execute_result"
    }
   ],
   "source": [
    "#compute the fraction of portfolio invested in each equity\n",
    "x_A=8000/10000.0\n",
    "x_C=2000/10000.0\n",
    "\n",
    "#now compute the portfolio return\n",
    "\n",
    "x_A*RA+x_C*RC"
   ]
  }
 ],
 "metadata": {
  "kernelspec": {
   "display_name": "Python 2",
   "language": "python",
   "name": "python2"
  },
  "language_info": {
   "codemirror_mode": {
    "name": "ipython",
    "version": 2
   },
   "file_extension": ".py",
   "mimetype": "text/x-python",
   "name": "python",
   "nbconvert_exporter": "python",
   "pygments_lexer": "ipython2",
   "version": "2.7.8"
  }
 },
 "nbformat": 4,
 "nbformat_minor": 0
}
