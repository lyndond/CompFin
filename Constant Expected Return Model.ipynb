{
 "cells": [
  {
   "cell_type": "markdown",
   "metadata": {},
   "source": [
    "## Preamble\n",
    "Import required libraries and set plotting preferences"
   ]
  },
  {
   "cell_type": "code",
   "execution_count": 1,
   "metadata": {
    "collapsed": true
   },
   "outputs": [],
   "source": [
    "import numpy as np, scipy.stats as ss, pandas as pd, statsmodels.api as sm\n",
    "import statsmodels.stats.api as sms\n",
    "import matplotlib.pyplot as plt\n",
    "import pandas.io.data as web\n",
    "import seaborn as sns #import new pretty plot library\n",
    "import datetime  \n",
    "\n",
    "%matplotlib inline\n",
    "#set plot palette and styles \n",
    "sns.set_palette('muted')\n",
    "sns.set_context(rc={\"figure.figsize\": (8, 4)})\n",
    "sns.set_style('dark')"
   ]
  },
  {
   "cell_type": "markdown",
   "metadata": {},
   "source": [
    "##Download data from Yahoo! Finance"
   ]
  },
  {
   "cell_type": "code",
   "execution_count": 2,
   "metadata": {
    "collapsed": false
   },
   "outputs": [],
   "source": [
    "#download all stock data\n",
    "start = datetime.datetime(2005, 9, 1)\n",
    "end = datetime.datetime(2010, 9, 3)\n",
    "\n",
    "stocks = ['VBLTX','FMAGX','SBUX']\n",
    "\n",
    "all_prices = web.DataReader(stocks, 'yahoo', start, end)\n",
    "\n",
    "# take only adjusted close price, downsample to monthly, take last price\n",
    "all_prices=all_prices.ix['Adj Close'].resample('BM','last')\n",
    "all_prices= all_prices[['VBLTX','FMAGX','SBUX']]"
   ]
  },
  {
   "cell_type": "markdown",
   "metadata": {},
   "source": [
    "Calculate the continuously compounded returns on all of the data by taking the log differences between data points."
   ]
  },
  {
   "cell_type": "code",
   "execution_count": 3,
   "metadata": {
    "collapsed": false
   },
   "outputs": [
    {
     "data": {
      "text/html": [
       "<div style=\"max-height:1000px;max-width:1500px;overflow:auto;\">\n",
       "<table border=\"1\" class=\"dataframe\">\n",
       "  <thead>\n",
       "    <tr style=\"text-align: right;\">\n",
       "      <th></th>\n",
       "      <th>VBLTX</th>\n",
       "      <th>FMAGX</th>\n",
       "      <th>SBUX</th>\n",
       "    </tr>\n",
       "    <tr>\n",
       "      <th>Date</th>\n",
       "      <th></th>\n",
       "      <th></th>\n",
       "      <th></th>\n",
       "    </tr>\n",
       "  </thead>\n",
       "  <tbody>\n",
       "    <tr>\n",
       "      <th>2005-09-30</th>\n",
       "      <td>NaN</td>\n",
       "      <td>NaN</td>\n",
       "      <td>NaN</td>\n",
       "    </tr>\n",
       "    <tr>\n",
       "      <th>2005-10-31</th>\n",
       "      <td>-0.019540</td>\n",
       "      <td>-0.012929</td>\n",
       "      <td>0.121281</td>\n",
       "    </tr>\n",
       "    <tr>\n",
       "      <th>2005-11-30</th>\n",
       "      <td>0.007663</td>\n",
       "      <td>0.032941</td>\n",
       "      <td>0.073931</td>\n",
       "    </tr>\n",
       "    <tr>\n",
       "      <th>2005-12-30</th>\n",
       "      <td>0.022205</td>\n",
       "      <td>0.019588</td>\n",
       "      <td>-0.014555</td>\n",
       "    </tr>\n",
       "    <tr>\n",
       "      <th>2006-01-31</th>\n",
       "      <td>-0.009222</td>\n",
       "      <td>0.046623</td>\n",
       "      <td>0.054786</td>\n",
       "    </tr>\n",
       "  </tbody>\n",
       "</table>\n",
       "</div>"
      ],
      "text/plain": [
       "               VBLTX     FMAGX      SBUX\n",
       "Date                                    \n",
       "2005-09-30       NaN       NaN       NaN\n",
       "2005-10-31 -0.019540 -0.012929  0.121281\n",
       "2005-11-30  0.007663  0.032941  0.073931\n",
       "2005-12-30  0.022205  0.019588 -0.014555\n",
       "2006-01-31 -0.009222  0.046623  0.054786"
      ]
     },
     "execution_count": 3,
     "metadata": {},
     "output_type": "execute_result"
    }
   ],
   "source": [
    "all_returns = np.log(all_prices).diff()\n",
    "all_returns.head()"
   ]
  },
  {
   "cell_type": "markdown",
   "metadata": {},
   "source": [
    "As always, it's good to visualize what we're working with, so let's plot the distributions of the continuously compounded returns."
   ]
  },
  {
   "cell_type": "code",
   "execution_count": 4,
   "metadata": {
    "collapsed": false
   },
   "outputs": [
    {
     "data": {
      "image/png": "[encoded data removed]",
      "text/plain": [
       "<matplotlib.figure.Figure at 0x109da5c10>"
      ]
     },
     "metadata": {},
     "output_type": "display_data"
    }
   ],
   "source": [
    "f, axs = plt.subplots(1,3,sharey =True)\n",
    "plt.subplots_adjust(hspace= 0.1,wspace=0.3)\n",
    "f.set_figheight(4)\n",
    "f.set_figwidth(8)\n",
    "\n",
    "axs[0].hist(all_returns.VBLTX[1:])\n",
    "axs[0].set_xlabel('C-C monthly return')\n",
    "axs[0].set_ylabel('Frequency')\n",
    "axs[0].set_title('VBLTX')\n",
    "plt.sca(axs[0])\n",
    "plt.xticks(np.linspace(-0.2,0.2,5))\n",
    "\n",
    "\n",
    "axs[1].hist(all_returns.FMAGX[1:])\n",
    "axs[1].set_title('FMAGX')\n",
    "plt.sca(axs[1])\n",
    "plt.xticks(np.linspace(-0.2,0.2,5))\n",
    "\n",
    "axs[2].hist(all_returns.SBUX[1:])\n",
    "plt.sca(axs[2])\n",
    "axs[2].set_title('SBUX')\n",
    "_=plt.xticks(np.linspace(-0.4,0.4,5))\n"
   ]
  },
  {
   "cell_type": "markdown",
   "metadata": {},
   "source": [
    "#Constant Expected Return Model:\n",
    "\n",
    "Consider\n",
    "\n",
    "\\begin{equation}\n",
    "R_{it} = \\mu_{i} + \\epsilon_{it}\n",
    "\\end{equation}\n",
    "\n",
    "\\begin{equation}\n",
    "t = 1...T\n",
    "\\end{equation}\n",
    "\n",
    "\\begin{equation}\n",
    "\\epsilon_{it} = \\text{iid } N(0,\\sigma_{i}^2)\n",
    "\\end{equation}\n",
    "\n",
    "\\begin{equation}\n",
    "cov(\\epsilon_{it},\\epsilon_{jt}) = \\sigma_{ij}\n",
    "\\end{equation}\n",
    "\n",
    "Where $R_{it}$ is the continuously compounded return on asset $i$ (VBLTX, SBUX, or FMAGX) at time $t$. This model assumes Normally distributed returns, covariance stationarity in their time series. From our data, let's estimate $\\sigma_{i}^2$ (sample variance) for the diferent assets, and the precision in our estimates by calculating the standard error (SE) where\n",
    "\n",
    "\\begin{equation}\n",
    "\\hat{\\text{SE}}(\\hat{\\sigma_{i}^2}) = \\hat{\\sigma_{i}^2} / \\sqrt{(T/2)}\n",
    "\\end{equation}"
   ]
  },
  {
   "cell_type": "code",
   "execution_count": 5,
   "metadata": {
    "collapsed": false
   },
   "outputs": [],
   "source": [
    "n_obs = all_returns.shape[0] #number of observations\n",
    "\n",
    "sigma2hat_vals = all_returns.var() #sample variance\n",
    "\n",
    "sigma2hat = sigma2hat_vals/np.sqrt(n_obs/2)"
   ]
  },
  {
   "cell_type": "markdown",
   "metadata": {},
   "source": [
    "##Estimate the standard error of the correlation parameter:\n",
    "\n",
    "Let's compute the correlations between each return time series, $\\rho_{ij}$, and their standard error. The standard error is calculated using \n",
    "\n",
    "\\begin{equation}\n",
    "\\hat{\\text{SE}}(\\hat{\\rho_{it}}) = (1-\\hat{\\rho_{it}}^2) / \\sqrt{T}\n",
    "\\end{equation}"
   ]
  },
  {
   "cell_type": "code",
   "execution_count": 6,
   "metadata": {
    "collapsed": false
   },
   "outputs": [
    {
     "data": {
      "text/html": [
       "<div style=\"max-height:1000px;max-width:1500px;overflow:auto;\">\n",
       "<table border=\"1\" class=\"dataframe\">\n",
       "  <thead>\n",
       "    <tr style=\"text-align: right;\">\n",
       "      <th></th>\n",
       "      <th>VBLTX</th>\n",
       "      <th>FMAGX</th>\n",
       "      <th>SBUX</th>\n",
       "    </tr>\n",
       "  </thead>\n",
       "  <tbody>\n",
       "    <tr>\n",
       "      <th>VBLTX</th>\n",
       "      <td>1.000000</td>\n",
       "      <td>0.185986</td>\n",
       "      <td>-0.141939</td>\n",
       "    </tr>\n",
       "    <tr>\n",
       "      <th>FMAGX</th>\n",
       "      <td>0.185986</td>\n",
       "      <td>1.000000</td>\n",
       "      <td>0.608742</td>\n",
       "    </tr>\n",
       "    <tr>\n",
       "      <th>SBUX</th>\n",
       "      <td>-0.141939</td>\n",
       "      <td>0.608742</td>\n",
       "      <td>1.000000</td>\n",
       "    </tr>\n",
       "  </tbody>\n",
       "</table>\n",
       "</div>"
      ],
      "text/plain": [
       "          VBLTX     FMAGX      SBUX\n",
       "VBLTX  1.000000  0.185986 -0.141939\n",
       "FMAGX  0.185986  1.000000  0.608742\n",
       "SBUX  -0.141939  0.608742  1.000000"
      ]
     },
     "execution_count": 6,
     "metadata": {},
     "output_type": "execute_result"
    }
   ],
   "source": [
    "cor_matrix=all_returns.corr()\n",
    "cor_matrix"
   ]
  },
  {
   "cell_type": "markdown",
   "metadata": {},
   "source": [
    "Let's grab the correlation values that aren't on the diagonal."
   ]
  },
  {
   "cell_type": "code",
   "execution_count": 7,
   "metadata": {
    "collapsed": false
   },
   "outputs": [
    {
     "data": {
      "text/html": [
       "<div style=\"max-height:1000px;max-width:1500px;overflow:auto;\">\n",
       "<table border=\"1\" class=\"dataframe\">\n",
       "  <thead>\n",
       "    <tr style=\"text-align: right;\">\n",
       "      <th></th>\n",
       "      <th>rhohat</th>\n",
       "      <th>se_rhohat</th>\n",
       "    </tr>\n",
       "  </thead>\n",
       "  <tbody>\n",
       "    <tr>\n",
       "      <th>VBLTX-FMAGX</th>\n",
       "      <td>0.185986</td>\n",
       "      <td>0.123608</td>\n",
       "    </tr>\n",
       "    <tr>\n",
       "      <th>VBLTX-SBUX</th>\n",
       "      <td>-0.141939</td>\n",
       "      <td>0.125457</td>\n",
       "    </tr>\n",
       "    <tr>\n",
       "      <th>FMAGX-SBUX</th>\n",
       "      <td>0.608742</td>\n",
       "      <td>0.080591</td>\n",
       "    </tr>\n",
       "  </tbody>\n",
       "</table>\n",
       "</div>"
      ],
      "text/plain": [
       "               rhohat  se_rhohat\n",
       "VBLTX-FMAGX  0.185986   0.123608\n",
       "VBLTX-SBUX  -0.141939   0.125457\n",
       "FMAGX-SBUX   0.608742   0.080591"
      ]
     },
     "execution_count": 7,
     "metadata": {},
     "output_type": "execute_result"
    }
   ],
   "source": [
    "rhohat_vals = cor_matrix.values[np.triu_indices_from(cor_matrix.values,1)] #grab the upper triangular\n",
    "\n",
    "se_rhohat = (1-rhohat_vals**2)/np.sqrt(n_obs)  #compute the  standard errors of rhohat\n",
    "\n",
    "pd.DataFrame({'rhohat': rhohat_vals ,'se_rhohat':se_rhohat},index=['VBLTX-FMAGX','VBLTX-SBUX','FMAGX-SBUX'])\n"
   ]
  },
  {
   "cell_type": "markdown",
   "metadata": {},
   "source": [
    "We can better visualize this using a corrplot matrix as shown below:"
   ]
  },
  {
   "cell_type": "code",
   "execution_count": 8,
   "metadata": {
    "collapsed": false
   },
   "outputs": [
    {
     "data": {
      "image/png": "[encoded data removed]",
      "text/plain": [
       "<matplotlib.figure.Figure at 0x10929d6d0>"
      ]
     },
     "metadata": {},
     "output_type": "display_data"
    }
   ],
   "source": [
    "_=sns.corrplot(all_returns[1:])"
   ]
  },
  {
   "cell_type": "markdown",
   "metadata": {},
   "source": [
    "##Hypothesis Testing for Asset Return Means:\n",
    "Let's compute a 1-sample on our VBLTX return distribution. This is to test if VBLTX returns come from a distribution with mean = 0. \n",
    "\n",
    "\\begin{eqnarray}\n",
    "H_0&:& \\mu_i = 0 \\\\\n",
    "H_1 &:& \\mu_i \\neq0\n",
    "\\end{eqnarray}"
   ]
  },
  {
   "cell_type": "code",
   "execution_count": 9,
   "metadata": {
    "collapsed": false
   },
   "outputs": [
    {
     "data": {
      "text/plain": [
       "0.15095045492524209"
      ]
     },
     "execution_count": 9,
     "metadata": {},
     "output_type": "execute_result"
    }
   ],
   "source": [
    "t,p_val=ss.ttest_1samp(all_returns.VBLTX[1:],0)\n",
    "p_val"
   ]
  },
  {
   "cell_type": "markdown",
   "metadata": {},
   "source": [
    "P>0.05, so we cannot reject the null hypothesis that this distribution does not have mean = 0. In fact, mean of VBLTX returns is"
   ]
  },
  {
   "cell_type": "code",
   "execution_count": 10,
   "metadata": {
    "collapsed": false
   },
   "outputs": [
    {
     "data": {
      "text/plain": [
       "0.0055773452459030167"
      ]
     },
     "execution_count": 10,
     "metadata": {},
     "output_type": "execute_result"
    }
   ],
   "source": [
    "all_returns.VBLTX.mean()"
   ]
  },
  {
   "cell_type": "markdown",
   "metadata": {},
   "source": [
    "Let's apply this test to all our returns (i.e. each column). A nifty way to accomplish this is to create a lambda function and use .apply() to apply to each column of our dataframe."
   ]
  },
  {
   "cell_type": "code",
   "execution_count": 11,
   "metadata": {
    "collapsed": false
   },
   "outputs": [
    {
     "data": {
      "text/plain": [
       "VBLTX      (1.45506847176, 0.150950454925)\n",
       "FMAGX     (-0.187131394933, 0.85219964327)\n",
       "SBUX     (0.0127171221506, 0.989896383414)\n",
       "dtype: object"
      ]
     },
     "execution_count": 11,
     "metadata": {},
     "output_type": "execute_result"
    }
   ],
   "source": [
    "all_returns[1:].apply(lambda x: ss.ttest_1samp(x,0))"
   ]
  },
  {
   "cell_type": "markdown",
   "metadata": {},
   "source": [
    "This returns tuples of (t-statistic, p-value) for each column. All these P values are greater than 0.05, so we cannot reject the hypothesis that their means that do not equal 0."
   ]
  },
  {
   "cell_type": "markdown",
   "metadata": {},
   "source": [
    "##Hypothesis Testing for Asset Return Correlations:\n",
    "For each correlation, we want to test\n",
    "\n",
    "\n",
    "\\begin{eqnarray}\n",
    "H_0&:& \\rho_{ij} = 0 \\\\\n",
    "H_1 &:& \\rho_{ij} \\neq0\n",
    "\\end{eqnarray}\n",
    "\n",
    "again using 5% significance level. We can do this by calling the pearsonr() function from scipy.stats.\n"
   ]
  },
  {
   "cell_type": "code",
   "execution_count": 12,
   "metadata": {
    "collapsed": false
   },
   "outputs": [
    {
     "data": {
      "text/plain": [
       "0.15479998614935597"
      ]
     },
     "execution_count": 12,
     "metadata": {},
     "output_type": "execute_result"
    }
   ],
   "source": [
    "rho, p_val =ss.pearsonr(all_returns.VBLTX[1:],all_returns.FMAGX[1:]) #correlation between VBLTX and FMAGX\n",
    "p_val"
   ]
  },
  {
   "cell_type": "markdown",
   "metadata": {},
   "source": [
    "Since the P value is greater than 0.05, we cannot reject $H_0$. Similarly for the correlation between VBLTX and SBUX."
   ]
  },
  {
   "cell_type": "code",
   "execution_count": 13,
   "metadata": {
    "collapsed": false
   },
   "outputs": [
    {
     "data": {
      "text/plain": [
       "0.27933454145926562"
      ]
     },
     "execution_count": 13,
     "metadata": {},
     "output_type": "execute_result"
    }
   ],
   "source": [
    "rho, p_val =ss.pearsonr(all_returns.VBLTX[1:],all_returns.SBUX[1:]) #correlation between VBLTX and FMAGX\n",
    "p_val"
   ]
  },
  {
   "cell_type": "markdown",
   "metadata": {},
   "source": [
    "##Testing for Normality:\n",
    "\\begin{eqnarray}\n",
    "H_0 &:& r_{it}  \\text{ ~ Normal} \\\\\n",
    "H_1 &:& r_{it}  \\text{ ~ Not Normal}\n",
    "\\end{eqnarray}\n",
    "\n",
    "Ideally, I'd like to use the Jarque-Bera test, but can't seem to find it implemented in Python, so I'm going to use scipy.stats.mstats.normaltest, which according to the documents is based on the D'Agnostino and Pearson's omnibus test for normality."
   ]
  },
  {
   "cell_type": "code",
   "execution_count": 14,
   "metadata": {
    "collapsed": false
   },
   "outputs": [
    {
     "data": {
      "text/plain": [
       "0.0052180041987529716"
      ]
     },
     "execution_count": 14,
     "metadata": {},
     "output_type": "execute_result"
    }
   ],
   "source": [
    "k2,p_val=ss.mstats.normaltest(all_returns.VBLTX[1:]) #k2 is the z-scored kurtosis test value returned\n",
    "p_val"
   ]
  },
  {
   "cell_type": "markdown",
   "metadata": {},
   "source": [
    "P<0.05 in this case, therefore, at the 5% significance level, we do reject the Null hypothesis $H_0$ that the distribution is Normal. We can now do this for all the returns, as before."
   ]
  },
  {
   "cell_type": "code",
   "execution_count": 15,
   "metadata": {
    "collapsed": false
   },
   "outputs": [
    {
     "data": {
      "text/plain": [
       "VBLTX     (10.5112805752, 0.00521800419875)\n",
       "FMAGX    (19.5321432812, 5.73652613617e-05)\n",
       "SBUX       (8.66769357022, 0.0131169920648)\n",
       "dtype: object"
      ]
     },
     "execution_count": 15,
     "metadata": {},
     "output_type": "execute_result"
    }
   ],
   "source": [
    "all_returns[1:].apply(lambda x: ss.mstats.normaltest(x))"
   ]
  },
  {
   "cell_type": "markdown",
   "metadata": {},
   "source": [
    "This yields a tuple (k2,p_val) for each asset return time series. In each case, we can reject the Null hypothesis at the 5% significance level."
   ]
  },
  {
   "cell_type": "markdown",
   "metadata": {},
   "source": [
    "##Bootstrapping:\n",
    "Let's now bootstrap the sample mean. Define a function to take as input the data, the number of samples we'd like to sample from the data, with replacement, and the function we'd like to pass. In this case, we're going to pass the np.mean function."
   ]
  },
  {
   "cell_type": "code",
   "execution_count": 16,
   "metadata": {
    "collapsed": false
   },
   "outputs": [],
   "source": [
    "def bootstrap(data, num_samples, statistic):\n",
    "    n= len(data)\n",
    "    samples= np.random.choice(data,(num_samples,n))\n",
    "    stat = np.sort(statistic(samples,axis=1))\n",
    "    return stat"
   ]
  },
  {
   "cell_type": "markdown",
   "metadata": {},
   "source": [
    "Generate 999 means using our bootstrap function above."
   ]
  },
  {
   "cell_type": "code",
   "execution_count": 17,
   "metadata": {
    "collapsed": false
   },
   "outputs": [],
   "source": [
    "boot_means=bootstrap(all_returns.VBLTX[1:],999,np.mean)"
   ]
  },
  {
   "cell_type": "markdown",
   "metadata": {},
   "source": [
    "Now let's plot the distribution of the bootstrapped means, and the quantile-quantile plot, to see how to compares to the normal distribution."
   ]
  },
  {
   "cell_type": "code",
   "execution_count": 18,
   "metadata": {
    "collapsed": false
   },
   "outputs": [
    {
     "data": {
      "text/plain": [
       "<matplotlib.text.Text at 0x10a42f610>"
      ]
     },
     "execution_count": 18,
     "metadata": {},
     "output_type": "execute_result"
    },
    {
     "data": {
      "image/png": "[encoded data removed]",
      "text/plain": [
       "<matplotlib.figure.Figure at 0x10a2fef50>"
      ]
     },
     "metadata": {},
     "output_type": "display_data"
    }
   ],
   "source": [
    "f, axs = plt.subplots(1,2)\n",
    "plt.subplots_adjust(hspace= 0.1,wspace=0.5)\n",
    "f.set_figheight(4)\n",
    "f.set_figwidth(8)\n",
    "\n",
    "axs[0].hist(boot_means,30)\n",
    "plt.sca(axs[0])\n",
    "axs[0].set_ylabel('Frequency')\n",
    "axs[0].set_xlabel('t *')\n",
    "axs[0].set_title('VBLTX Bootstrapped Mean Returns')\n",
    "_=plt.xticks(np.linspace(-0.005,0.015,5))\n",
    "\n",
    "res=ss.probplot(boot_means, dist=\"norm\",plot=axs[1])\n",
    "axs[1].set_ylabel('t *')\n",
    "axs[1].set_title('Quantile-Quantile ')"
   ]
  }
 ],
 "metadata": {
  "kernelspec": {
   "display_name": "Python 2",
   "language": "python",
   "name": "python2"
  },
  "language_info": {
   "codemirror_mode": {
    "name": "ipython",
    "version": 2
   },
   "file_extension": ".py",
   "mimetype": "text/x-python",
   "name": "python",
   "nbconvert_exporter": "python",
   "pygments_lexer": "ipython2",
   "version": "2.7.9"
  }
 },
 "nbformat": 4,
 "nbformat_minor": 0
}
